{
 "cells": [
  {
   "cell_type": "code",
   "execution_count": 13,
   "id": "3c1cc5c2",
   "metadata": {},
   "outputs": [],
   "source": [
    "#import packages\n",
    "import matplotlib.pyplot as plt\n",
    "import numpy as np\n",
    "from sklearn.preprocessing import (\n",
    "    PolynomialFeatures,\n",
    ")  # use the fit_transform method of the created object!\n",
    "from sklearn.linear_model import LinearRegression\n",
    "from sklearn.metrics import mean_squared_error\n",
    "from sklearn.model_selection import train_test_split\n",
    "from sklearn.utils import resample\n",
    "from sklearn.preprocessing import StandardScaler\n",
    "from sklearn.metrics import mean_squared_error as MSE\n",
    "from sklearn.metrics import r2_score\n",
    "import seaborn as sns"
   ]
  },
  {
   "cell_type": "code",
   "execution_count": 14,
   "id": "11ef1923",
   "metadata": {},
   "outputs": [],
   "source": [
    "from func_list import Ridge_parameters\n",
    "from func_list import polynomial_features\n",
    "\n",
    "#trying without a function first\n",
    "#dataset\n",
    "n = 100\n",
    "x = np.linspace(-1,1, n) #x within interval [-1,1]\n",
    "denominator = 1+(25*x**2)\n",
    "y = 1/denominator# + np.random.normal(0, 1, x.shape) \n",
    "lambda_fixed = 0.000000001\n",
    "n_lambdas = 6\n",
    "polydegree = 6\n",
    "lambdas_range = np.logspace(-5,1, n_lambdas)\n",
    "\n",
    "X = polynomial_features(x, polydegree, intercept = False)\n",
    "\n",
    "#empty lists for the loops\n",
    "mse_train_list = np.zeros(n_lambdas)\n",
    "I = np.eye(polydegree,polydegree)\n",
    "for i in range(n_lambdas):\n",
    "    lmb = lambdas_range[i]\n",
    "    Ridge_parameters(X, y, lambda_fixed)\n",
    "\n",
    "\n",
    "\n"
   ]
  },
  {
   "cell_type": "code",
   "execution_count": 16,
   "id": "443d9217",
   "metadata": {},
   "outputs": [],
   "source": [
    "#Tror jeg nå har fått det til i den andre fila\n"
   ]
  },
  {
   "cell_type": "code",
   "execution_count": null,
   "id": "d2321926",
   "metadata": {},
   "outputs": [],
   "source": [
    "# Først kjør funksjonene dine og lagre resultatene\n",
    "degree = 16\n",
    "\n",
    "# Analytisk OLS og Ridge\n",
    "beta_ols = mse_poly_plot_OLS(degree, intercept=False)  # returner beta fra funksjonen\n",
    "beta_ridge = poly_plot_ridge(intercept=False, annotate=False)  # returner beta fra funksjonen\n",
    "\n",
    "# Gradient Descent\n",
    "theta_gdOLSn, theta_gdRidgen = gradient(x, y, n_feat=degree, degree=degree)\n",
    "\n",
    "# Lag x-akse for plott (polynomgrad)\n",
    "poly_axis = np.arange(1, degree+1)\n",
    "\n",
    "# Sammenligningsplot for OLS\n",
    "plt.figure(figsize=(12,5))\n",
    "plt.plot(poly_axis, beta_ols[1:degree+1], label='OLS Analytisk', marker='o')\n",
    "plt.scatter(poly_axis, theta_gdOLSn, color='r', label='OLS GD')\n",
    "plt.xlabel('Polynomial degree')\n",
    "plt.ylabel('Theta coefficients')\n",
    "plt.title('Sammenligning OLS: Analytisk vs Gradient Descent')\n",
    "plt.legend()\n",
    "plt.grid(True)\n",
    "plt.show()\n",
    "\n",
    "# Sammenligningsplot for Ridge\n",
    "plt.figure(figsize=(12,5))\n",
    "plt.plot(poly_axis, beta_ridge[1:degree+1], label='Ridge Analytisk', marker='o')\n",
    "plt.scatter(poly_axis, theta_gdRidgen, color='r', label='Ridge GD')\n",
    "plt.xlabel('Polynomial degree')\n",
    "plt.ylabel('Theta coefficients')\n",
    "plt.title('Sammenligning Ridge: Analytisk vs Gradient Descent')\n",
    "plt.legend()\n",
    "plt.grid(True)\n",
    "plt.show()\n"
   ]
  }
 ],
 "metadata": {
  "kernelspec": {
   "display_name": ".venv",
   "language": "python",
   "name": "python3"
  },
  "language_info": {
   "codemirror_mode": {
    "name": "ipython",
    "version": 3
   },
   "file_extension": ".py",
   "mimetype": "text/x-python",
   "name": "python",
   "nbconvert_exporter": "python",
   "pygments_lexer": "ipython3",
   "version": "3.11.3"
  }
 },
 "nbformat": 4,
 "nbformat_minor": 5
}
