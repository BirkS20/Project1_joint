{
 "cells": [
  {
   "cell_type": "markdown",
   "id": "2061223e",
   "metadata": {},
   "source": [
    "# exc 1a\n",
    "\n",
    "Creating a dataset for:\n",
    "\n",
    "$$\n",
    "f(x) = \\frac{1}{1+25x^2}, \\quad x \\in [-1,1]\n",
    "$$"
   ]
  },
  {
   "cell_type": "code",
   "execution_count": 1,
   "id": "6dc208c6",
   "metadata": {},
   "outputs": [],
   "source": [
    "#import packages\n",
    "import matplotlib.pyplot as plt\n",
    "import numpy as np"
   ]
  },
  {
   "cell_type": "code",
   "execution_count": null,
   "id": "da0b7834",
   "metadata": {},
   "outputs": [],
   "source": [
    "x = np.linspace(-1,1).reshape(-1,1) #x within interval [-1,1]\n",
    "denominator = 1+(25*x**2)\n",
    "#defining y and adding noise as a normal distrubution\n",
    "y = 1/denominator + np.random.normal(0,1, x.shape) \n"
   ]
  },
  {
   "cell_type": "code",
   "execution_count": null,
   "id": "bcbf1a38",
   "metadata": {},
   "outputs": [],
   "source": []
  }
 ],
 "metadata": {
  "kernelspec": {
   "display_name": ".venv",
   "language": "python",
   "name": "python3"
  },
  "language_info": {
   "codemirror_mode": {
    "name": "ipython",
    "version": 3
   },
   "file_extension": ".py",
   "mimetype": "text/x-python",
   "name": "python",
   "nbconvert_exporter": "python",
   "pygments_lexer": "ipython3",
   "version": "3.11.3"
  }
 },
 "nbformat": 4,
 "nbformat_minor": 5
}
