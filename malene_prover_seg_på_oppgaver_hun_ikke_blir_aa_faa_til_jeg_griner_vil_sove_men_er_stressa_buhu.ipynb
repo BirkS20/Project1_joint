{
 "cells": [
  {
   "cell_type": "markdown",
   "id": "2061223e",
   "metadata": {},
   "source": [
    "# exc 1a\n",
    "\n",
    "Creating a dataset for:\n",
    "\n",
    "$$\n",
    "f(x) = \\frac{1}{1+25x^2}, \\quad x \\in [-1,1]\n",
    "$$"
   ]
  },
  {
   "cell_type": "code",
   "execution_count": 1,
   "id": "6dc208c6",
   "metadata": {},
   "outputs": [],
   "source": [
    "#import packages\n",
    "import matplotlib.pyplot as plt\n",
    "import numpy as np"
   ]
  },
  {
   "cell_type": "code",
   "execution_count": 13,
   "id": "da0b7834",
   "metadata": {},
   "outputs": [],
   "source": [
    "n = 100\n",
    "x = np.linspace(-1,1, n) #x within interval [-1,1]\n",
    "denominator = 1+(25*x**2)\n",
    "#defining y and adding noise as a normal distrubution\n",
    "y = 1/denominator + np.random.normal(0, 0.1, x.shape) \n"
   ]
  },
  {
   "cell_type": "code",
   "execution_count": 14,
   "id": "bcbf1a38",
   "metadata": {},
   "outputs": [],
   "source": [
    "#Perform a standard ordinary least square regression analysis\n",
    "#First create function. The function creates a designmatrix X either with or without the intercept.\n",
    "def polynomial_features(x, p, intercept=bool):\n",
    "    n = len(x)\n",
    "    X = np.zeros((n, p + 1)) \n",
    "    if intercept == True: #Keeps a first column of ones\n",
    "        for i in range(p+1):\n",
    "            X[:, i] = x**i\n",
    "    elif intercept == False: #jumps to first column of values\n",
    "        for i in range(1,p+1):\n",
    "            X[:,i] = x**i\n",
    "    else:\n",
    "        raise TypeError(f\"Please include a boolean response to the function parameter the intercept\")\n",
    "    return X"
   ]
  },
  {
   "cell_type": "code",
   "execution_count": 18,
   "id": "93b1c43c",
   "metadata": {},
   "outputs": [
    {
     "name": "stdout",
     "output_type": "stream",
     "text": [
      "[[ 1.         -1.          1.         ...  1.         -1.\n",
      "   1.        ]\n",
      " [ 1.         -0.97979798  0.96000408 ...  0.75146984 -0.73628863\n",
      "   0.72141411]\n",
      " [ 1.         -0.95959596  0.92082441 ...  0.5613552  -0.53867418\n",
      "   0.51690957]\n",
      " ...\n",
      " [ 1.          0.95959596  0.92082441 ...  0.5613552   0.53867418\n",
      "   0.51690957]\n",
      " [ 1.          0.97979798  0.96000408 ...  0.75146984  0.73628863\n",
      "   0.72141411]\n",
      " [ 1.          1.          1.         ...  1.          1.\n",
      "   1.        ]]\n"
     ]
    }
   ],
   "source": [
    "#The task says to use a polynomial higher than 15 so we have used 16\n",
    "#The intercept is included, so there is a column with ones. \n",
    "X_task1 = polynomial_features(x, p = 16, intercept = True) \n",
    "\n",
    "#checking that it works as it should\n",
    "print(X_task1) "
   ]
  },
  {
   "cell_type": "code",
   "execution_count": null,
   "id": "dda54911",
   "metadata": {},
   "outputs": [
    {
     "data": {
      "text/plain": [
       "'\\nIn the above code we have used the optimization of OLS to find the parameter theta of a \\nlinear regression model that best describes/fits our data by minimizing the sum \\nsum of the squared differences between the actual data points and the predicted values.\\n'"
      ]
     },
     "execution_count": 24,
     "metadata": {},
     "output_type": "execute_result"
    }
   ],
   "source": [
    "#To do the OLS regression we will use the same snippets of code as used\n",
    "#in our weekly exercises.\n",
    "#Because OLS is not impacted by scaling, we will not scale the data yet.\n",
    "\n",
    "#Creating the OLS parameter by using \n",
    "def OLS_parameters(X, y):\n",
    "    theta = np.linalg.pinv(X.T @ X) @ X.T @ y  #Optimization of OLS theta calculated week 35. \n",
    "    return theta\n",
    "\n",
    "theta_task1 = OLS_parameters(X=X_task1, y=y) #y is our cost function"
   ]
  },
  {
   "cell_type": "markdown",
   "id": "5a1e1a77",
   "metadata": {},
   "source": [
    "In the above code we have used the optimization of OLS to find the parameter theta of a \n",
    "linear regression model that best describes/fits our data by minimizing the sum \n",
    "sum of the squared differences between the actual data points and the predicted values."
   ]
  },
  {
   "cell_type": "code",
   "execution_count": null,
   "id": "13138030",
   "metadata": {},
   "outputs": [],
   "source": []
  }
 ],
 "metadata": {
  "kernelspec": {
   "display_name": ".venv",
   "language": "python",
   "name": "python3"
  },
  "language_info": {
   "codemirror_mode": {
    "name": "ipython",
    "version": 3
   },
   "file_extension": ".py",
   "mimetype": "text/x-python",
   "name": "python",
   "nbconvert_exporter": "python",
   "pygments_lexer": "ipython3",
   "version": "3.11.3"
  }
 },
 "nbformat": 4,
 "nbformat_minor": 5
}
